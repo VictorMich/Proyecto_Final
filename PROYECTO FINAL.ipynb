{
 "cells": [
  {
   "cell_type": "code",
   "execution_count": 22,
   "metadata": {},
   "outputs": [],
   "source": [
    "iu = ((1+0.08)**(1/12))-1\n",
    "du = 1-(1+iu)**(-1)\n",
    "ido = ((1+0.04)**(1/6))-1\n",
    "dd = 1-(1+ido)**(-1)\n",
    "it = ((1+((0.08)/3))**(1/2))-1\n",
    "dt = 1-(1+it)**(-1)\n",
    "n = 12\n",
    "valor1 = (1)/((1+iu)**n)\n",
    "valor2 = (1)/((1+ido)**n)\n",
    "valor3 = (1)/((1+it)**n)\n",
    "ia1 = (((1-valor1)/du)-(12*valor1))/iu\n",
    "ia2 = (((1-valor2)/dd)-(12*valor2))/ido\n",
    "ia3 = (((1-valor3)/dt)-(12*valor3))/it\n",
    "a1 = ((1-valor1)/iu)*12\n",
    "a2 = ((1-valor2)/ido)*24\n",
    "c = 100000"
   ]
  },
  {
   "cell_type": "code",
   "execution_count": 7,
   "metadata": {},
   "outputs": [],
   "source": [
    "monto = ia1 + ((a1 + ia2)*valor1) + ((a2 + ia3)*valor1*valor2)\n",
    "pago = c/monto"
   ]
  },
  {
   "cell_type": "code",
   "execution_count": 1,
   "metadata": {},
   "outputs": [],
   "source": [
    "def tabla_mortalidad(renglon_tabla, columna_tabla):\n",
    "    if renglon_tabla == \"lx\":\n",
    "        print(\"asd\")"
   ]
  },
  {
   "cell_type": "code",
   "execution_count": null,
   "metadata": {},
   "outputs": [],
   "source": []
  }
 ],
 "metadata": {
  "kernelspec": {
   "display_name": "Python 3",
   "language": "python",
   "name": "python3"
  },
  "language_info": {
   "codemirror_mode": {
    "name": "ipython",
    "version": 3
   },
   "file_extension": ".py",
   "mimetype": "text/x-python",
   "name": "python",
   "nbconvert_exporter": "python",
   "pygments_lexer": "ipython3",
   "version": "3.6.5"
  }
 },
 "nbformat": 4,
 "nbformat_minor": 2
}
