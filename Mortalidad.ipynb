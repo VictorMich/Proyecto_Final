{
 "cells": [
  {
   "cell_type": "code",
   "execution_count": 96,
   "metadata": {},
   "outputs": [],
   "source": [
    "import numpy as np\n",
    "import matplotlib.pyplot as plt\n",
    "import pandas as pd\n",
    "tabla_mortalidad = pd.read_csv(\"mortalidad.csv\")\n",
    "tabla_mortalidad.index = range(15,100)\n",
    "\n",
    "class Persona:\n",
    "    def __init__(self, edad):\n",
    "        vivos = list(tabla_mortalidad.lx)\n",
    "        muertos = list(tabla_mortalidad.dx)\n",
    "        proba_morir = list(tabla_mortalidad.px)\n",
    "        proba_vivir = list(tabla_mortalidad.qx)\n",
    "        Dx = list(tabla_mortalidad.Dx)\n",
    "        Nx = list(tabla_mortalidad.Nx)\n",
    "        Cx = list(tabla_mortalidad.Cx)\n",
    "        Mx = list(tabla_mortalidad.Mx)\n",
    "        self.lx = vivos[edad-15]\n",
    "        self.dx = muertos[edad-15]\n",
    "        self.px = proba_morir[edad-15]\n",
    "        self.qx = proba_vivir[edad-15]\n",
    "        self.Dx = Dx[edad-15]\n",
    "        self.Nx = Nx[edad-15]\n",
    "        self.Cx = Cx[edad-15]\n",
    "        self.Mx = Mx[edad-15]\n",
    "        self.edad = edad\n",
    "        if edad < 14:\n",
    "            error = f\"Edad fuera de los parámetros.\"\n",
    "            raise IndexError(error)\n",
    "        elif edad > 99:\n",
    "            error2 = f\"Edad fuera de los parámetros.\"\n",
    "            raise IndexError(error2)\n",
    "        else:\n",
    "            print(f\"Bienvenido.\")\n",
    "            \n",
    "    def datos_tabla(self, nuev_dato):\n",
    "        nuev_dato = nuev_dato.lower()\n",
    "        if nuev_dato == \"lx\":\n",
    "            return self.lx\n",
    "        elif nuev_dato == \"dx\":\n",
    "            return self.dx\n",
    "        elif nuev_dato == \"px\":\n",
    "            return self.px\n",
    "        elif nuev_dato == \"qx\":\n",
    "            return self.qx\n",
    "        else:\n",
    "            raise KeyError(\"Ingrese un dato válido.\")\n",
    "            \n",
    "    def cálculo_de_primas(self, tipo_seguro, tiempo, suma_asegurada):\n",
    "        seguro = tipo_seguro.lower()\n",
    "        tiempo1 = tiempo + self.edad\n",
    "        if seguro == \"ordinario\":\n",
    "            ordi = float(self.Mx.replace(\"$\",\"\").replace(\",\",\"\"))\n",
    "            nario = float(self.Dx.replace(\"$\",\"\").replace(\",\",\"\"))\n",
    "            sord = (ordi/nario)*suma_asegurada\n",
    "            return f\"La prima será de: ${sord}\"\n",
    "        \n",
    "        elif seguro == \"temporal\":\n",
    "            tem = float(self.Mx.replace(\"$\",\"\").replace(\",\",\"\"))\n",
    "            x = list(tabla_mortalidad.Mx)[tiempo1-15]\n",
    "            po = float(y.replace(\"$\",\"\").replace(\",\",\"\"))\n",
    "            ral = float(self.Dx.replace(\"$\",\"\").replace(\",\",\"\"))\n",
    "            stemporal = ((tem-po)/ral)*suma_asegurada\n",
    "            return f\"La prima será de: ${stemporal}\"\n",
    "        \n",
    "        elif seguro == \"dotal\":\n",
    "                dotalMx = float(self.Mx.replace(\"$\",\"\").replace(\",\",\"\"))\n",
    "                x = list(tabla_mortalidad.Mx)[tiempo1-15]\n",
    "                x2 = list(tabla_mortalidad.Dx)[tiempo1-15]\n",
    "                dotalMxx = float(x.replace(\"$\",\"\").replace(\",\",\"\"))\n",
    "                dotalDxn = float(x2.replace(\"$\",\"\").replace(\",\",\"\"))\n",
    "                dotalDx = float(self.Dx.replace(\"$\",\"\").replace(\",\",\"\"))\n",
    "                dotal = ((dotalMx - dotalMxx + dotalDxn)/(dotalDx))*suma_asegurada\n",
    "                return f\"La prima será de: ${dotal}\"\n",
    "    \n",
    "    def gráficas(self, x, y):\n",
    "        x = list(tabla_mortalidad.x)\n",
    "        y = list(tabla_mortalidad.y)\n",
    "        plt.plot(x,y)\n",
    "        return plt.show()"
   ]
  },
  {
   "cell_type": "code",
   "execution_count": 92,
   "metadata": {
    "scrolled": true
   },
   "outputs": [
    {
     "name": "stdout",
     "output_type": "stream",
     "text": [
      "Bienvenido.\n"
     ]
    }
   ],
   "source": [
    "Victor = Persona(19)"
   ]
  },
  {
   "cell_type": "code",
   "execution_count": 95,
   "metadata": {},
   "outputs": [
    {
     "data": {
      "text/plain": [
       "'La prima pura única será de: $4850899.003048028'"
      ]
     },
     "execution_count": 95,
     "metadata": {},
     "output_type": "execute_result"
    }
   ],
   "source": [
    "Victor.cálculo_de_primas(\"dotal\",10,7500000)"
   ]
  },
  {
   "cell_type": "code",
   "execution_count": 97,
   "metadata": {},
   "outputs": [
    {
     "data": {
      "text/plain": [
       "'0.998134'"
      ]
     },
     "execution_count": 97,
     "metadata": {},
     "output_type": "execute_result"
    }
   ],
   "source": [
    "Victor.datos_tabla(\"qx\")"
   ]
  },
  {
   "cell_type": "code",
   "execution_count": null,
   "metadata": {},
   "outputs": [],
   "source": [
    "Victor.gráficas()"
   ]
  }
 ],
 "metadata": {
  "kernelspec": {
   "display_name": "Python 3",
   "language": "python",
   "name": "python3"
  },
  "language_info": {
   "codemirror_mode": {
    "name": "ipython",
    "version": 3
   },
   "file_extension": ".py",
   "mimetype": "text/x-python",
   "name": "python",
   "nbconvert_exporter": "python",
   "pygments_lexer": "ipython3",
   "version": "3.6.5"
  }
 },
 "nbformat": 4,
 "nbformat_minor": 2
}
