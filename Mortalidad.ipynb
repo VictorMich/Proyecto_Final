{
 "cells": [
  {
   "cell_type": "code",
   "execution_count": 208,
   "metadata": {},
   "outputs": [
    {
     "ename": "TypeError",
     "evalue": "parser_f() got an unexpected keyword argument 'index'",
     "output_type": "error",
     "traceback": [
      "\u001b[1;31m---------------------------------------------------------------------------\u001b[0m",
      "\u001b[1;31mTypeError\u001b[0m                                 Traceback (most recent call last)",
      "\u001b[1;32m<ipython-input-208-44b2a5f3d295>\u001b[0m in \u001b[0;36m<module>\u001b[1;34m()\u001b[0m\n\u001b[0;32m      2\u001b[0m \u001b[1;32mimport\u001b[0m \u001b[0mmatplotlib\u001b[0m\u001b[1;33m.\u001b[0m\u001b[0mpyplot\u001b[0m \u001b[1;32mas\u001b[0m \u001b[0mplt\u001b[0m\u001b[1;33m\u001b[0m\u001b[0m\n\u001b[0;32m      3\u001b[0m \u001b[1;32mimport\u001b[0m \u001b[0mpandas\u001b[0m \u001b[1;32mas\u001b[0m \u001b[0mpd\u001b[0m\u001b[1;33m\u001b[0m\u001b[0m\n\u001b[1;32m----> 4\u001b[1;33m \u001b[0mtabla_mortalidad\u001b[0m \u001b[1;33m=\u001b[0m \u001b[0mpd\u001b[0m\u001b[1;33m.\u001b[0m\u001b[0mread_csv\u001b[0m\u001b[1;33m(\u001b[0m\u001b[1;34m\"mortalidad.csv\"\u001b[0m\u001b[1;33m,\u001b[0m \u001b[0mindex\u001b[0m\u001b[1;33m=\u001b[0m\u001b[1;32mFalse\u001b[0m\u001b[1;33m)\u001b[0m\u001b[1;33m\u001b[0m\u001b[0m\n\u001b[0m\u001b[0;32m      5\u001b[0m \u001b[0mtabla_mortalidad\u001b[0m\u001b[1;33m.\u001b[0m\u001b[0mindex\u001b[0m \u001b[1;33m=\u001b[0m \u001b[0mrange\u001b[0m\u001b[1;33m(\u001b[0m\u001b[1;36m15\u001b[0m\u001b[1;33m,\u001b[0m\u001b[1;36m100\u001b[0m\u001b[1;33m)\u001b[0m\u001b[1;33m\u001b[0m\u001b[0m\n\u001b[0;32m      6\u001b[0m \u001b[1;33m\u001b[0m\u001b[0m\n",
      "\u001b[1;31mTypeError\u001b[0m: parser_f() got an unexpected keyword argument 'index'"
     ]
    }
   ],
   "source": [
    "import numpy as np\n",
    "import matplotlib.pyplot as plt\n",
    "import pandas as pd\n",
    "tabla_mortalidad = pd.read_csv(\"mortalidad.csv\")\n",
    "tabla_mortalidad.index = range(15,100)\n",
    "\n",
    "class Persona:\n",
    "    def __init__(self, edad):\n",
    "        vivos = list(tabla_mortalidad.lx)\n",
    "        muertos = list(tabla_mortalidad.dx)\n",
    "        proba_morir = list(tabla_mortalidad.px)\n",
    "        proba_vivir = list(tabla_mortalidad.qx)\n",
    "        Dx = list(tabla_mortalidad.Dx)\n",
    "        Nx = list(tabla_mortalidad.Nx)\n",
    "        Cx = list(tabla_mortalidad.Cx)\n",
    "        Mx = list(tabla_mortalidad.Mx)\n",
    "        self.lx = vivos[edad-15]\n",
    "        self.dx = muertos[edad-15]\n",
    "        self.px = proba_morir[edad-15]\n",
    "        self.qx = proba_vivir[edad-15]\n",
    "        self.Dx = Dx[edad-15]\n",
    "        self.Nx = Nx[edad-15]\n",
    "        self.Cx = Cx[edad-15]\n",
    "        self.Mx = Mx[edad-15]\n",
    "        self.edad = edad\n",
    "        if edad < 15:\n",
    "            error = f\"Edad fuera de los parámetros.\"\n",
    "            raise IndexError(error)\n",
    "        elif edad > 99:\n",
    "            error2 = f\"Edad fuera de los parámetros.\"\n",
    "            raise IndexError(error2)\n",
    "        else:\n",
    "            print(f\"Bienvenido.\")\n",
    "            \n",
    "    def datos_tabla(self, nuev_dato):\n",
    "        nuev_dato = nuev_dato.lower()\n",
    "        if nuev_dato == \"lx\":\n",
    "            return self.lx\n",
    "        elif nuev_dato == \"dx\":\n",
    "            return self.dx\n",
    "        elif nuev_dato == \"px\":\n",
    "            return self.px\n",
    "        elif nuev_dato == \"qx\":\n",
    "            return self.qx\n",
    "        else:\n",
    "            raise KeyError(\"Ingrese un dato válido.\")\n",
    "            \n",
    "    def cálculo_de_primas(self, tipo_seguro, tiempo, suma_asegurada):\n",
    "        seguro = tipo_seguro.lower()\n",
    "        tiempo1 = tiempo + self.edad\n",
    "        if seguro == \"ordinario\":\n",
    "            ordi = float(self.Mx.replace(\"$\",\"\").replace(\",\",\"\"))\n",
    "            nario = float(self.Dx.replace(\"$\",\"\").replace(\",\",\"\"))\n",
    "            sord = (ordi/nario)*suma_asegurada\n",
    "            return f\"La prima será de: ${sord}\"\n",
    "        \n",
    "        elif seguro == \"temporal\":\n",
    "            tem = float(self.Mx.replace(\"$\",\"\").replace(\",\",\"\"))\n",
    "            x = list(tabla_mortalidad.Mx)[tiempo1-15]\n",
    "            po = float(y.replace(\"$\",\"\").replace(\",\",\"\"))\n",
    "            ral = float(self.Dx.replace(\"$\",\"\").replace(\",\",\"\"))\n",
    "            stemporal = ((tem-po)/ral)*suma_asegurada\n",
    "            return f\"La prima será de: ${stemporal}\"\n",
    "        \n",
    "        elif seguro == \"dotal\":\n",
    "                dotalMx = float(self.Mx.replace(\"$\",\"\").replace(\",\",\"\"))\n",
    "                x = list(tabla_mortalidad.Mx)[tiempo1-15]\n",
    "                x2 = list(tabla_mortalidad.Dx)[tiempo1-15]\n",
    "                dotalMxx = float(x.replace(\"$\",\"\").replace(\",\",\"\"))\n",
    "                dotalDxn = float(x2.replace(\"$\",\"\").replace(\",\",\"\"))\n",
    "                dotalDx = float(self.Dx.replace(\"$\",\"\").replace(\",\",\"\"))\n",
    "                dotal = ((dotalMx - dotalMxx + dotalDxn)/(dotalDx))*suma_asegurada\n",
    "                return f\"La prima será de: ${dotal}\"\n",
    "    \n",
    "    def gráficas(self, dato, px = False):\n",
    "        dato = dato.lower()\n",
    "        if dato == \"lx\":\n",
    "            x = tabla_mortalidad.lx.apply(lambda v: v.replace(\"$\", \"\").replace(\",\", \"\")).astype(float)\n",
    "            plt.grid(alpha = 6)\n",
    "            plt.xlabel(\"Edad\")\n",
    "            plt.ylabel(\"Muestra\")\n",
    "            plt.title(\"lx\")\n",
    "            plt.plot(x, color=\"red\")\n",
    "            plt.legend()\n",
    "            plt.show() \n",
    "        elif dato == \"dx\":\n",
    "            x = tabla_mortalidad.dx.apply(lambda v: v.replace(\"$\", \"\").replace(\",\", \"\")).astype(float)\n",
    "            plt.grid(alpha = 6)\n",
    "            plt.xlabel(\"Edad\")\n",
    "            plt.ylabel(\"Muestra\")\n",
    "            plt.title(\"dx\")\n",
    "            plt.plot(x, color=\"orange\")\n",
    "            plt.legend()\n",
    "            plt.show() \n",
    "        elif dato == \"qx\" or dato ==\"px\":\n",
    "            px == True\n",
    "            y = pd.to_numeric(tabla_mortalidad.qx, errors = \"coerce\")\n",
    "            x = tabla_mortalidad.px.astype(float)\n",
    "            plt.grid(alpha = 6)\n",
    "            plt.xlabel(\"Edad\")\n",
    "            plt.ylabel(\"Muestra\")\n",
    "            plt.yticks(np.arange(0,2,0.09))\n",
    "            plt.title(\"Relación qx & px\")\n",
    "            plt.plot(x, color=\"blue\", linewidth = 3)\n",
    "            plt.plot(y, color=\"purple\", linewidth = 3)\n",
    "            plt.legend()\n",
    "            plt.show()\n",
    "        else:\n",
    "            raise KeyError(\"Dato inválido.\")\n",
    "        \n",
    "    def renglón(self, renglón = int, renglón2 = False, renglón3 = False):\n",
    "        if renglón > 99:\n",
    "            raise ValueError(f\"Renglón {renglón} fuera del límite\")\n",
    "        elif renglón < 15:\n",
    "            raise ValueError(f\"Renglón {renglón} fuera del límite\")\n",
    "        else:\n",
    "            return tabla_mortalidad.take([renglón-15])"
   ]
  },
  {
   "cell_type": "code",
   "execution_count": 202,
   "metadata": {
    "scrolled": true
   },
   "outputs": [
    {
     "name": "stdout",
     "output_type": "stream",
     "text": [
      "Bienvenido.\n"
     ]
    }
   ],
   "source": [
    "Victor = Persona(15)"
   ]
  },
  {
   "cell_type": "code",
   "execution_count": 203,
   "metadata": {},
   "outputs": [
    {
     "data": {
      "text/plain": [
       "'La prima será de: $4849659.856691561'"
      ]
     },
     "execution_count": 203,
     "metadata": {},
     "output_type": "execute_result"
    }
   ],
   "source": [
    "Victor.cálculo_de_primas(\"dotal\",10,7500000)"
   ]
  },
  {
   "cell_type": "code",
   "execution_count": 204,
   "metadata": {},
   "outputs": [
    {
     "data": {
      "text/plain": [
       "'10,000,000'"
      ]
     },
     "execution_count": 204,
     "metadata": {},
     "output_type": "execute_result"
    }
   ],
   "source": [
    "Victor.datos_tabla(\"lx\")"
   ]
  },
  {
   "cell_type": "code",
   "execution_count": 205,
   "metadata": {},
   "outputs": [
    {
     "data": {
      "image/png": "[encoded data removed]",
      "text/plain": [
       "<Figure size 432x288 with 1 Axes>"
      ]
     },
     "metadata": {},
     "output_type": "display_data"
    }
   ],
   "source": [
    "Victor.gráficas(\"qx\")"
   ]
  },
  {
   "cell_type": "code",
   "execution_count": 207,
   "metadata": {},
   "outputs": [
    {
     "data": {
      "text/html": [
       "<div>\n",
       "<style scoped>\n",
       "    .dataframe tbody tr th:only-of-type {\n",
       "        vertical-align: middle;\n",
       "    }\n",
       "\n",
       "    .dataframe tbody tr th {\n",
       "        vertical-align: top;\n",
       "    }\n",
       "\n",
       "    .dataframe thead th {\n",
       "        text-align: right;\n",
       "    }\n",
       "</style>\n",
       "<table border=\"1\" class=\"dataframe\">\n",
       "  <thead>\n",
       "    <tr style=\"text-align: right;\">\n",
       "      <th></th>\n",
       "      <th>Edad</th>\n",
       "      <th>lx</th>\n",
       "      <th>dx</th>\n",
       "      <th>px</th>\n",
       "      <th>qx</th>\n",
       "      <th>Dx</th>\n",
       "      <th>Nx</th>\n",
       "      <th>Cx</th>\n",
       "      <th>Mx</th>\n",
       "    </tr>\n",
       "  </thead>\n",
       "  <tbody>\n",
       "    <tr>\n",
       "      <th>30</th>\n",
       "      <td>30</td>\n",
       "      <td>9,705,398</td>\n",
       "      <td>23,244</td>\n",
       "      <td>0.002395</td>\n",
       "      <td>0.997605</td>\n",
       "      <td>$2,591,341.40</td>\n",
       "      <td>$48,499,416.90</td>\n",
       "      <td>$5,938.90</td>\n",
       "      <td>$502,850.30</td>\n",
       "    </tr>\n",
       "  </tbody>\n",
       "</table>\n",
       "</div>"
      ],
      "text/plain": [
       "    Edad         lx      dx        px        qx             Dx  \\\n",
       "30    30  9,705,398  23,244  0.002395  0.997605  $2,591,341.40   \n",
       "\n",
       "                Nx         Cx           Mx  \n",
       "30  $48,499,416.90  $5,938.90  $502,850.30  "
      ]
     },
     "execution_count": 207,
     "metadata": {},
     "output_type": "execute_result"
    }
   ],
   "source": [
    "Victor.renglón(30)"
   ]
  }
 ],
 "metadata": {
  "kernelspec": {
   "display_name": "Python 3",
   "language": "python",
   "name": "python3"
  },
  "language_info": {
   "codemirror_mode": {
    "name": "ipython",
    "version": 3
   },
   "file_extension": ".py",
   "mimetype": "text/x-python",
   "name": "python",
   "nbconvert_exporter": "python",
   "pygments_lexer": "ipython3",
   "version": "3.6.5"
  }
 },
 "nbformat": 4,
 "nbformat_minor": 2
}
